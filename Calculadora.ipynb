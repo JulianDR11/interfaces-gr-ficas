{
  "nbformat": 4,
  "nbformat_minor": 0,
  "metadata": {
    "colab": {
      "provenance": []
    },
    "kernelspec": {
      "name": "python3",
      "display_name": "Python 3"
    },
    "language_info": {
      "name": "python"
    }
  },
  "cells": [
    {
      "cell_type": "code",
      "execution_count": 1,
      "metadata": {
        "colab": {
          "base_uri": "https://localhost:8080/"
        },
        "id": "QhXT8fAuEKbd",
        "outputId": "4606438c-9f2f-4888-bf8d-bafb0e6b45a1"
      },
      "outputs": [
        {
          "output_type": "stream",
          "name": "stdout",
          "text": [
            "Calculadora\n",
            "Operaciones disponibles: +, -, *, /\n",
            "Ingrese el primer número: 8\n",
            "Ingrese la operación (+, -, *, /): *\n",
            "Ingrese el segundo número: 8\n",
            "El resultado de 8.0 * 8.0 es: 64.0\n"
          ]
        }
      ],
      "source": [
        "# Calculadora\n",
        "def calculator():\n",
        "    print(\"Calculadora\")\n",
        "    print(\"Operaciones disponibles: +, -, *, /\")\n",
        "    try:\n",
        "        # Leer primer número\n",
        "        num1 = float(input(\"Ingrese el primer número: \"))\n",
        "        # Leer operación\n",
        "        op = input(\"Ingrese la operación (+, -, *, /): \")\n",
        "        if op not in [\"+\", \"-\", \"*\", \"/\"]:\n",
        "            print(\"Operación erronea.\")\n",
        "            return\n",
        "\n",
        "        # Leer segundo número\n",
        "        num2 = float(input(\"Ingrese el segundo número: \"))\n",
        "        # Realizar operación\n",
        "        if op == \"+\":\n",
        "            result = num1 + num2\n",
        "        elif op == \"-\":\n",
        "            result = num1 - num2\n",
        "        elif op == \"*\":\n",
        "            result = num1 * num2\n",
        "        elif op == \"/\":\n",
        "            if num2 == 0:\n",
        "                print(\"Error.\")\n",
        "                return\n",
        "            result = num1 / num2\n",
        "\n",
        "        # Mostrar resultado\n",
        "        print(f\"El resultado de {num1} {op} {num2} es: {result}\")\n",
        "\n",
        "    except ValueError:\n",
        "        print(\"Error, ingrese los números correctamente.\")\n",
        "\n",
        "# Llamar a la calculadora\n",
        "calculator()\n"
      ]
    }
  ]
}