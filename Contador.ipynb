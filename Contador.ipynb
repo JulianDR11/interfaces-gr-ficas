{
  "nbformat": 4,
  "nbformat_minor": 0,
  "metadata": {
    "colab": {
      "provenance": []
    },
    "kernelspec": {
      "name": "python3",
      "display_name": "Python 3"
    },
    "language_info": {
      "name": "python"
    }
  },
  "cells": [
    {
      "cell_type": "code",
      "execution_count": 2,
      "metadata": {
        "colab": {
          "base_uri": "https://localhost:8080/"
        },
        "id": "sxBBq_lOHf78",
        "outputId": "c47175eb-566f-4f21-872a-bbf8bf047744"
      },
      "outputs": [
        {
          "output_type": "stream",
          "name": "stdout",
          "text": [
            "Programa de Contador\n",
            "Opciones:\n",
            "1. Incrementar el contador\n",
            "2. Decrementar el contador\n",
            "3. Reiniciar el contador\n",
            "4. Mostrar el valor actual\n",
            "5. Salir del programa\n",
            "\n",
            "Seleccione una opción (1-5): 1\n",
            "El contador se incrementó.\n",
            "\n",
            "Seleccione una opción (1-5): 1\n",
            "El contador se incrementó.\n",
            "\n",
            "Seleccione una opción (1-5): 4\n",
            "El valor actual del contador es: 2\n",
            "\n",
            "Seleccione una opción (1-5): 2\n",
            "El contador se decrementó.\n",
            "\n",
            "Seleccione una opción (1-5): 4\n",
            "El valor actual del contador es: 1\n",
            "\n",
            "Seleccione una opción (1-5): 3\n",
            "El contador se reinició.\n",
            "\n",
            "Seleccione una opción (1-5): 4\n",
            "El valor actual del contador es: 0\n",
            "\n",
            "Seleccione una opción (1-5): 5\n",
            "Saliendo del programa.\n"
          ]
        }
      ],
      "source": [
        "# Clase para contador\n",
        "class Contador:\n",
        "    def __init__(self):\n",
        "        self.valor = 0  # Valor inicial\n",
        "\n",
        "    def incrementar(self):\n",
        "        self.valor += 1\n",
        "\n",
        "    def decrementar(self):\n",
        "        self.valor -= 1\n",
        "\n",
        "    def reiniciar(self):\n",
        "        self.valor = 0\n",
        "\n",
        "    def mostrar(self):\n",
        "        return self.valor\n",
        "\n",
        "# Función para interactuar con el contador\n",
        "def programa_contador():\n",
        "    contador = Contador()\n",
        "    print(\"Programa de Contador\")\n",
        "    print(\"Opciones:\")\n",
        "    print(\"1. Incrementar el contador\")\n",
        "    print(\"2. Decrementar el contador\")\n",
        "    print(\"3. Reiniciar el contador\")\n",
        "    print(\"4. Mostrar el valor actual\")\n",
        "    print(\"5. Salir del programa\")\n",
        "\n",
        "    while True:\n",
        "        try:\n",
        "            # Leer la opción del usuario\n",
        "            opcion = int(input(\"\\nSeleccione una opción (1-5): \"))\n",
        "\n",
        "            if opcion == 1:\n",
        "                contador.incrementar()\n",
        "                print(\"El contador se incrementó.\")\n",
        "            elif opcion == 2:\n",
        "                contador.decrementar()\n",
        "                print(\"El contador se decrementó.\")\n",
        "            elif opcion == 3:\n",
        "                contador.reiniciar()\n",
        "                print(\"El contador se reinició.\")\n",
        "            elif opcion == 4:\n",
        "                print(f\"El valor actual del contador es: {contador.mostrar()}\")\n",
        "            elif opcion == 5:\n",
        "                print(\"Saliendo del programa.\")\n",
        "                break\n",
        "            else:\n",
        "                print(\"Seleccione una opción válida (1-5).\")\n",
        "        except ValueError:\n",
        "            print(\"Ingrese un número válido.\")\n",
        "\n",
        "# Llamar al programa del contador\n",
        "programa_contador()\n"
      ]
    }
  ]
}